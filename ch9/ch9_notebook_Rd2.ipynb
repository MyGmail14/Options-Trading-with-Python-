{
 "cells": [
  {
   "cell_type": "markdown",
   "id": "ebfb57ec-c9f5-4c3b-b9f6-98819506dedb",
   "metadata": {},
   "source": [
    "# Greeks and Sensitivity Analysis"
   ]
  },
  {
   "cell_type": "markdown",
   "id": "0bfc0241-b312-45cd-b1b6-cfecab9ad85e",
   "metadata": {},
   "source": [
    "# ~~~~~~~~~~~~~~~~~~~~~~~~~~~~~~~~"
   ]
  },
  {
   "cell_type": "markdown",
   "id": "0d0d0add-ff03-4c37-af3c-3942c8adc582",
   "metadata": {
    "tags": []
   },
   "source": [
    "## Load the Libs we need"
   ]
  },
  {
   "cell_type": "code",
   "execution_count": 1,
   "id": "4b0d19b3-7892-470c-8051-b3460605ed1a",
   "metadata": {},
   "outputs": [],
   "source": [
    "# Import libraries\n",
    "import pandas as pd\n",
    "import numpy as np\n",
    "import matplotlib.pyplot as plt\n",
    "import scipy.stats as si\n",
    "\n",
    "# import module\n",
    "from scipy.stats import norm\n",
    "from datetime import datetime, timezone, date, time\n",
    "from dateutil.parser import parse"
   ]
  },
  {
   "cell_type": "markdown",
   "id": "741f3243-ed98-4d94-a939-4df9363c0090",
   "metadata": {},
   "source": [
    "## Calculating Greeks Using Python"
   ]
  },
  {
   "cell_type": "markdown",
   "id": "5eae75e1-3b9a-48dc-b1d6-b70b80f5848e",
   "metadata": {},
   "source": [
    "### Black-Scholes Model"
   ]
  },
  {
   "cell_type": "code",
   "execution_count": 2,
   "id": "7bd18285-0edf-4abf-bd46-8289c3195dcf",
   "metadata": {},
   "outputs": [],
   "source": [
    "class mb_BlackScholes:\n",
    "    def __init__(self, S, K, r, T, v, q=0, t=0):\n",
    "        self.S = S  # underlying asset price\n",
    "        self.K = K  # strike price\n",
    "        self.r = r  # risk-free interest rate\n",
    "        self.T = T  # time until expiration in years\n",
    "        self.v = v  # volatility\n",
    "        self.q = q  # dividend yield\n",
    "        self.t = t  # current time\n",
    "        \n",
    "        # compute d1 and d2\n",
    "        self.d1 = ((np.log(self.S / self.K) + (self.r - self.q + 0.5 * self.v ** 2) * (self.T - self.t)) /\n",
    "                  (self.v * np.sqrt(self.T - self.t)))\n",
    "        self.d2 = self.d1 - self.v * np.sqrt(self.T - self.t)\n",
    "        \n",
    "    def mb_price(self, option_type='call'):\n",
    "        if option_type == 'call':\n",
    "            return (self.S * np.exp(-self.q * (self.T - self.t)) * norm.cdf(self.d1) - \n",
    "                    self.K * np.exp(-self.r * (self.T - self.t)) * norm.cdf(self.d2))\n",
    "        elif option_type == 'put':\n",
    "            return (self.K * np.exp(-self.r * (self.T - self.t)) * norm.cdf(-self.d2) - \n",
    "                    self.S * np.exp(-self.q * (self.T - self.t)) * norm.cdf(-self.d1))\n",
    "    \n",
    "    def mb_delta(self, option_type='call'):\n",
    "        if option_type == 'call':\n",
    "            return np.exp(-self.q * (self.T - self.t)) * norm.cdf(self.d1)\n",
    "        elif option_type == 'put':\n",
    "            return -np.exp(-self.q * (self.T - self.t)) * norm.cdf(-self.d1)\n",
    "        \n",
    "    def mb_gamma(self):\n",
    "        return ((np.exp(-self.q * (self.T - self.t)) * norm.pdf(self.d1)) / \n",
    "               (self.S * self.v * np.sqrt(self.T - self.t)))\n",
    "        \n",
    "    def mb_theta(self, option_type='call'):\n",
    "        if option_type == 'call':\n",
    "            return (-((self.S * np.exp(-self.q * (self.T - self.t)) * norm.pdf(self.d1) * self.v) / (2 * np.sqrt(self.T - self.t))) - \n",
    "                    self.r * self.K * np.exp(-self.r * (self.T - self.t)) * norm.cdf(self.d2) + \n",
    "                    self.q * self.S * np.exp(-self.q * (self.T - self.t)) * norm.cdf(self.d1))\n",
    "        elif option_type == 'put':\n",
    "            return (-((self.S * np.exp(-self.q * (self.T - self.t)) * norm.pdf(self.d1) * self.v) / (2 * np.sqrt(self.T - self.t))) + \n",
    "                    self.r * self.K * np.exp(-self.r * (self.T - self.t)) * norm.cdf(-self.d2) - \n",
    "                    self.q * self.S * np.exp(-self.q * (self.T - self.t)) * norm.cdf(-self.d1))\n",
    "        \n",
    "    def mb_vega(self):\n",
    "        return self.S * np.exp(-self.q * (self.T - self.t)) * norm.pdf(self.d1) * np.sqrt(self.T - self.t)\n",
    "    \n",
    "    def mb_rho(self, option_type='call'):\n",
    "        if option_type == 'call':\n",
    "            return self.K * (self.T - self.t) * np.exp(-self.r * (self.T - self.t)) * norm.cdf(self.d2)\n",
    "        elif option_type == 'put':\n",
    "            return -self.K * (self.T - self.t) * np.exp(-self.r * (self.T - self.t)) * norm.cdf(-self.d2)\n",
    "        \n",
    "    # Second order Greeks\n",
    "    \n",
    "    def mb_charm(self, option_type='call'):\n",
    "        if option_type == 'call':\n",
    "            return -np.exp(-self.q * (self.T - self.t)) * norm.pdf(self.d1) * ((2 * (self.r - self.q) * (self.T - self.t) - self.d1 * self.v * np.sqrt(self.T - self.t)) / \n",
    "                    (2 * (self.T - self.t) * self.v * np.sqrt(self.T - self.t))) - self.q * np.exp(-self.q * (self.T - self.t)) * norm.cdf(self.d1)\n",
    "        elif option_type == 'put':\n",
    "            return -np.exp(-self.q * (self.T - self.t)) * norm.pdf(self.d1) * ((2 * (self.r - self.q) * (self.T - self.t) - self.d1 * self.v * np.sqrt(self.T - self.t)) / \n",
    "                    (2 * (self.T - self.t) * self.v * np.sqrt(self.T - self.t))) + self.q * np.exp(-self.q * (self.T - self.t)) * norm.cdf(-self.d1)\n",
    "        \n",
    "    def mb_vomma(self):\n",
    "        return self.mb_vega() * (self.d1 * self.d2 / self.v)\n",
    "    \n",
    "    def mb_vanna(self):\n",
    "        return -np.exp(-self.q * (self.T - self.t)) * norm.pdf(self.d1) * self.d2 / self.v\n",
    "        \n",
    "    def mb_speed(self):\n",
    "        return np.exp(-self.q * (self.T - self.t)) * norm.pdf(self.d1) / (self.S**2 * self.v * np.sqrt(self.T - self.t)) * (self.d1 + self.v * np.sqrt(self.T - self.t))\n",
    "        \n",
    "    def mb_zomma(self):\n",
    "        return self.mb_gamma() * ((self.d1 * self.d2 - 1) / self.v)\n",
    "    \n",
    "    def mb_color(self):\n",
    "        return np.exp(-self.q * (self.T - self.t)) * norm.pdf(self.d1) / (2 * self.S * self.v * np.sqrt(self.T - self.t)) * (1 + self.d1 * ((2 * (self.r - self.q) * (self.T - self.t) - self.d2 * self.v * np.sqrt(self.T - self.t)) / \n",
    "                (2 * self.v * np.sqrt(self.T - self.t))))\n"
   ]
  },
  {
   "cell_type": "markdown",
   "id": "8fd3d3b0-40a0-44a8-98f5-01450f432a1b",
   "metadata": {},
   "source": [
    "### Calculate the Greeks using BlackScholes"
   ]
  },
  {
   "cell_type": "code",
   "execution_count": 3,
   "id": "bf88a1ef-862b-4a94-b25d-37035faa9a79",
   "metadata": {},
   "outputs": [
    {
     "name": "stdout",
     "output_type": "stream",
     "text": [
      "Call Option Greeks:\n",
      "Price:  7.491693155007894\n",
      "Delta:  0.5171512290359106\n",
      "Gamma:  0.019717640994265942\n",
      "Theta:  -5.637548457246437\n",
      "Vega:  39.435281988531884\n",
      "Rho:  44.223429748583165\n",
      "Charm:  -0.07299050034183298\n",
      "Vomma:  -1.5908834261433795\n",
      "Vanna:  0.28383706062941993\n",
      "Speed:  5.048685791412178e-05\n",
      "Zomma:  -0.09938364668440139\n",
      "Color:  0.010009108342042454\n",
      "\n",
      "Put Option Greeks:\n",
      "Price:  8.365799352666059\n",
      "Delta:  -0.47289860471325745\n",
      "Gamma:  0.019717640994265942\n",
      "Theta:  -1.6336438123668557\n",
      "Vega:  39.435281988531884\n",
      "Rho:  -55.655659823991805\n",
      "Charm:  -0.0630900020043413\n",
      "Vomma:  -1.5908834261433795\n",
      "Vanna:  0.28383706062941993\n",
      "Speed:  5.048685791412178e-05\n",
      "Zomma:  -0.09938364668440139\n",
      "Color:  0.010009108342042454\n"
     ]
    }
   ],
   "source": [
    "# Define option parameters\n",
    "S = 100  # underlying asset price\n",
    "K = 105  # strike price\n",
    "T = 1    # time until expiration in years\n",
    "r = 0.05 # risk-free interest rate\n",
    "q = 0.01 # dividend yield\n",
    "v = 0.20 # volatility\n",
    "\n",
    "# Calculate the Greeks using the extended BlackScholes class\n",
    "bs = mb_BlackScholes(S, K, r, T, v, q)\n",
    "\n",
    "# Print the Greeks for call options\n",
    "print('Call Option Greeks:')\n",
    "print('Price: ', bs.mb_price(option_type='call'))\n",
    "print('Delta: ', bs.mb_delta(option_type='call'))\n",
    "print('Gamma: ', bs.mb_gamma())\n",
    "print('Theta: ', bs.mb_theta(option_type='call'))\n",
    "print('Vega: ', bs.mb_vega())\n",
    "print('Rho: ', bs.mb_rho(option_type='call'))\n",
    "print('Charm: ', bs.mb_charm(option_type='call'))\n",
    "print('Vomma: ', bs.mb_vomma())\n",
    "print('Vanna: ', bs.mb_vanna())\n",
    "print('Speed: ', bs.mb_speed())\n",
    "print('Zomma: ', bs.mb_zomma())\n",
    "print('Color: ', bs.mb_color())\n",
    "\n",
    "# Print the Greeks for put options\n",
    "print('\\nPut Option Greeks:')\n",
    "print('Price: ', bs.mb_price(option_type='put'))\n",
    "print('Delta: ', bs.mb_delta(option_type='put'))\n",
    "print('Gamma: ', bs.mb_gamma())\n",
    "print('Theta: ', bs.mb_theta(option_type='put'))\n",
    "print('Vega: ', bs.mb_vega())\n",
    "print('Rho: ', bs.mb_rho(option_type='put'))\n",
    "print('Charm: ', bs.mb_charm(option_type='put'))\n",
    "print('Vomma: ', bs.mb_vomma())\n",
    "print('Vanna: ', bs.mb_vanna())\n",
    "print('Speed: ', bs.mb_speed())\n",
    "print('Zomma: ', bs.mb_zomma())\n",
    "print('Color: ', bs.mb_color())\n"
   ]
  },
  {
   "cell_type": "code",
   "execution_count": null,
   "id": "35b280f3-256a-4545-8eee-5ac2f1dd29c1",
   "metadata": {},
   "outputs": [],
   "source": []
  }
 ],
 "metadata": {
  "kernelspec": {
   "display_name": "Python 3 (ipykernel)",
   "language": "python",
   "name": "python3"
  },
  "language_info": {
   "codemirror_mode": {
    "name": "ipython",
    "version": 3
   },
   "file_extension": ".py",
   "mimetype": "text/x-python",
   "name": "python",
   "nbconvert_exporter": "python",
   "pygments_lexer": "ipython3",
   "version": "3.11.4"
  }
 },
 "nbformat": 4,
 "nbformat_minor": 5
}
