{
 "cells": [
  {
   "cell_type": "markdown",
   "id": "787ec3d3-eef1-4687-b164-881132cdefdb",
   "metadata": {
    "tags": []
   },
   "source": [
    "# Testing and Evaluating Options Pricing Models"
   ]
  },
  {
   "cell_type": "markdown",
   "id": "0bfc0241-b312-45cd-b1b6-cfecab9ad85e",
   "metadata": {},
   "source": [
    "# ~~~~~~~~~~~~~~~~~~~~~~~~~~~~~~~~"
   ]
  },
  {
   "cell_type": "markdown",
   "id": "0d0d0add-ff03-4c37-af3c-3942c8adc582",
   "metadata": {
    "tags": []
   },
   "source": [
    "## Load the Libs we need"
   ]
  },
  {
   "cell_type": "code",
   "execution_count": 1,
   "id": "36335255-3a12-4108-b282-d524a5e889cb",
   "metadata": {},
   "outputs": [],
   "source": [
    "# Import libraries\n",
    "import numpy as np\n",
    "import scipy.optimize as opt\n",
    "import matplotlib.pyplot as plt\n",
    "\n",
    "# Import sklearn modules\n",
    "from sklearn.linear_model import LinearRegression, Lasso, Ridge\n",
    "from sklearn.model_selection import train_test_split, cross_val_score\n",
    "from sklearn.metrics import mean_absolute_error, mean_squared_error, r2_score\n",
    "from sklearn.ensemble import RandomForestRegressor\n",
    "from scipy.stats import norm"
   ]
  },
  {
   "cell_type": "markdown",
   "id": "5649334c-a1a9-49f1-ab39-dff1bea2b512",
   "metadata": {},
   "source": [
    "## Introduction to Testing and Evaluating Trading Models"
   ]
  },
  {
   "cell_type": "code",
   "execution_count": 2,
   "id": "cd82d377-850f-44c6-810a-ca74c3283cab",
   "metadata": {
    "tags": []
   },
   "outputs": [
    {
     "name": "stdout",
     "output_type": "stream",
     "text": [
      "Mean Absolute Error: 0.40\n"
     ]
    }
   ],
   "source": [
    "# Mock data\n",
    "past_prices = np.array([100, 105, 103, 108, 107]).reshape(-1, 1)\n",
    "option_prices = np.array([5, 4.5, 5.2, 4.8, 4.7])\n",
    "\n",
    "# Split the data into training and testing subsets\n",
    "X_train, X_test, y_train, y_test = train_test_split(past_prices, option_prices, test_size=0.2, random_state=42)\n",
    "\n",
    "# Train a linear regression model\n",
    "model = LinearRegression().fit(X_train, y_train)\n",
    "\n",
    "# Evaluate the model's performance using Mean Absolute Error (MAE)\n",
    "predicted = model.predict(X_test)\n",
    "mae = mean_absolute_error(y_test, predicted)\n",
    "\n",
    "print(f\"Mean Absolute Error: {mae:.2f}\")"
   ]
  },
  {
   "cell_type": "markdown",
   "id": "cbcf98c6-6677-45df-b2e2-fb6b204224b1",
   "metadata": {},
   "source": [
    "## Performance Metrics for Trading Models"
   ]
  },
  {
   "cell_type": "code",
   "execution_count": 3,
   "id": "49e2d97f-ba68-4d2f-8584-75a2ca61b784",
   "metadata": {
    "tags": []
   },
   "outputs": [
    {
     "name": "stdout",
     "output_type": "stream",
     "text": [
      "Sharpe Ratio: 0.27\n",
      "Sortino Ratio: 0.58\n",
      "Maximum Drawdown: -0.12\n"
     ]
    }
   ],
   "source": [
    "# Define the Sharpe Ratio function\n",
    "def mb_sharpe_ratio(returns, risk_free_rate=0.01):\n",
    "    excess_returns = returns - risk_free_rate\n",
    "    return np.mean(excess_returns) / np.std(excess_returns)\n",
    "\n",
    "# Define the Sortino Ratio function\n",
    "def mb_sortino_ratio(returns, risk_free_rate=0.01, target_return=0):\n",
    "    excess_returns = returns - risk_free_rate\n",
    "    downside_std = np.std(np.clip(excess_returns - target_return, None, 0))\n",
    "    return np.mean(excess_returns) / downside_std\n",
    "\n",
    "# Define the Maximum Drawdown function\n",
    "def mb_max_drawdown(returns):\n",
    "    cumulative_returns = np.cumprod(1 + returns)\n",
    "    max_return = np.fmax.accumulate(cumulative_returns)\n",
    "    return np.min(cumulative_returns / max_return - 1)\n",
    "\n",
    "# Sample returns data\n",
    "returns = np.array([0.08, 0.12, -0.05, 0.10, -0.03, 0.15, 0.07, -0.06, 0.04, -0.10])\n",
    "\n",
    "# Print the metrics\n",
    "print(f\"Sharpe Ratio: {mb_sharpe_ratio(returns):.2f}\")\n",
    "print(f\"Sortino Ratio: {mb_sortino_ratio(returns):.2f}\")\n",
    "print(f\"Maximum Drawdown: {mb_max_drawdown(returns):.2f}\")\n",
    "\n"
   ]
  },
  {
   "cell_type": "markdown",
   "id": "38afb666-1735-40b6-ae63-82ec9e623057",
   "metadata": {},
   "source": [
    "## Backtesting Techniques"
   ]
  },
  {
   "cell_type": "code",
   "execution_count": 4,
   "id": "15ce8d38-ef69-4137-9332-98365f535405",
   "metadata": {
    "tags": []
   },
   "outputs": [
    {
     "name": "stdout",
     "output_type": "stream",
     "text": [
      "[4.86097561 4.94634146 4.81829268 4.73292683 4.77560976]\n"
     ]
    }
   ],
   "source": [
    "new_past_prices = np.array([106, 104, 107, 109, 108]).reshape(-1, 1)\n",
    "predicted_option_prices = model.predict(new_past_prices)\n",
    "print(predicted_option_prices)"
   ]
  },
  {
   "cell_type": "code",
   "execution_count": 5,
   "id": "0a3331c3-95b1-488f-9460-d462e35720c8",
   "metadata": {
    "tags": []
   },
   "outputs": [
    {
     "name": "stdout",
     "output_type": "stream",
     "text": [
      "['sell', 'buy', 'buy', 'sell', 'buy']\n"
     ]
    }
   ],
   "source": [
    "def mb_rolling_window_backtest(data, window_size):\n",
    "    signals = []\n",
    "    for start in range(0, len(data) - window_size):\n",
    "        end = start + window_size\n",
    "        window_data = data[start:end]\n",
    "        moving_avg = np.mean(window_data)\n",
    "        if window_data[-1] > moving_avg:\n",
    "            signals.append('buy')\n",
    "        else:\n",
    "            signals.append('sell')\n",
    "    return signals\n",
    "\n",
    "data = np.array([100, 102, 99, 105, 104, 103, 108, 107])\n",
    "signals = mb_rolling_window_backtest(data, window_size=3)\n",
    "print(signals)\n"
   ]
  },
  {
   "cell_type": "code",
   "execution_count": null,
   "id": "518866a3-5790-4e48-aadf-238b68d7d479",
   "metadata": {},
   "outputs": [],
   "source": []
  },
  {
   "cell_type": "markdown",
   "id": "e6dd680c-4dac-4766-b0c9-11980d69153d",
   "metadata": {},
   "source": [
    "## Model Validation Approaches"
   ]
  },
  {
   "cell_type": "code",
   "execution_count": 6,
   "id": "ae0fcb44-0610-43ad-868a-909f83dfb0a3",
   "metadata": {
    "tags": []
   },
   "outputs": [
    {
     "name": "stdout",
     "output_type": "stream",
     "text": [
      "Model R^2 Score: 0.73\n"
     ]
    }
   ],
   "source": [
    "# Generate a larger mock dataset\n",
    "np.random.seed(42)  # for reproducibility\n",
    "\n",
    "# Creating a sequence of 500 numbers as past prices\n",
    "past_prices = np.linspace(50, 150, 500) \n",
    "\n",
    "# Generating option prices with a linear relationship + some random noise\n",
    "option_prices = 0.1 * past_prices + 5 + np.random.normal(0, 2, 500)\n",
    "\n",
    "# Split the data into training and testing sets\n",
    "X_train, X_test, y_train, y_test = train_test_split(past_prices.reshape(-1, 1), option_prices, test_size=0.2, random_state=42)\n",
    "\n",
    "# Train a linear regression model\n",
    "model = LinearRegression().fit(X_train, y_train)\n",
    "\n",
    "# Predict using the test set\n",
    "predictions = model.predict(X_test)\n",
    "\n",
    "# Calculate R^2 score\n",
    "accuracy = r2_score(y_test, predictions)\n",
    "\n",
    "print(f\"Model R^2 Score: {accuracy:.2f}\")"
   ]
  },
  {
   "cell_type": "code",
   "execution_count": 7,
   "id": "a1286ea8-1c20-4fd6-9b97-050409894ae9",
   "metadata": {
    "tags": []
   },
   "outputs": [
    {
     "name": "stdout",
     "output_type": "stream",
     "text": [
      "Cross-validation Scores: [0.07126362 0.08633118 0.01805444 0.0756227  0.00986164]\n",
      "Average Score: 0.05\n"
     ]
    }
   ],
   "source": [
    "# Reshape the data to ensure it's in the expected 2D format\n",
    "X = past_prices.reshape(-1, 1)\n",
    "y = option_prices\n",
    "\n",
    "# Perform cross-validation\n",
    "scores = cross_val_score(LinearRegression(), X, y, cv=5)\n",
    "print(f\"Cross-validation Scores: {scores}\")\n",
    "print(f\"Average Score: {np.mean(scores):.2f}\")"
   ]
  },
  {
   "cell_type": "code",
   "execution_count": 8,
   "id": "9104e199-1250-44e6-86e2-debe03d30707",
   "metadata": {
    "tags": []
   },
   "outputs": [
    {
     "name": "stdout",
     "output_type": "stream",
     "text": [
      "[16.02148275 16.12297715 16.32596595 16.22447155 16.52895475 16.63044916\n",
      " 16.83343796 16.73194356 16.93493236 17.03642676]\n"
     ]
    }
   ],
   "source": [
    "# Generate new data points that the model hasn't seen and ensure it's reshaped\n",
    "new_data = np.array([110, 111, 113, 112, 115, 116, 118, 117, 119, 120]).reshape(-1, 1)\n",
    "\n",
    "# Use the model (which was trained on past_prices) to predict option prices for the new data\n",
    "predicted_prices = model.predict(new_data)\n",
    "print(predicted_prices)"
   ]
  },
  {
   "cell_type": "code",
   "execution_count": null,
   "id": "9d0de498-9d02-4cf0-8204-1f838e6973ae",
   "metadata": {},
   "outputs": [],
   "source": []
  },
  {
   "cell_type": "markdown",
   "id": "f61e8c21-2328-4c7c-8f62-c1de4f6467bb",
   "metadata": {},
   "source": [
    "## Addressing Overfitting and Improving Model Performance"
   ]
  },
  {
   "cell_type": "code",
   "execution_count": 9,
   "id": "04944328-dfc2-4488-a6f6-1f0acd560e40",
   "metadata": {
    "tags": []
   },
   "outputs": [
    {
     "name": "stdout",
     "output_type": "stream",
     "text": [
      "Lasso Model Accuracy: 0.73\n"
     ]
    }
   ],
   "source": [
    "# Using Lasso regression, that includes a penalty term which can help in reducing overfitting.\n",
    "lasso_model = Lasso(alpha=0.1).fit(X_train, y_train)\n",
    "predictions = lasso_model.predict(X_test)\n",
    "\n",
    "accuracy = lasso_model.score(X_test, y_test)\n",
    "print(f\"Lasso Model Accuracy: {accuracy:.2f}\")"
   ]
  },
  {
   "cell_type": "code",
   "execution_count": 10,
   "id": "f1a45fad-463a-446c-87f9-13f2c875132a",
   "metadata": {
    "tags": []
   },
   "outputs": [
    {
     "name": "stdout",
     "output_type": "stream",
     "text": [
      "Ridge Model Accuracy: 0.73\n"
     ]
    }
   ],
   "source": [
    "# Using Ridge regression to reduce overfitting.\n",
    "ridge_model = Ridge(alpha=0.5).fit(X_train, y_train)\n",
    "ridge_predictions = ridge_model.predict(X_test)\n",
    "\n",
    "accuracy = ridge_model.score(X_test, y_test)\n",
    "print(f\"Ridge Model Accuracy: {accuracy:.2f}\")"
   ]
  },
  {
   "cell_type": "code",
   "execution_count": 11,
   "id": "5a607066-b66a-43b6-9b64-281c1d9e3cbf",
   "metadata": {
    "tags": []
   },
   "outputs": [
    {
     "name": "stdout",
     "output_type": "stream",
     "text": [
      "Random Forest Model Accuracy: 0.65\n"
     ]
    }
   ],
   "source": [
    "# Using Random Forests, which are less prone to overfitting compared to simple linear models.\n",
    "rf_model = RandomForestRegressor(n_estimators=100).fit(X_train, y_train)\n",
    "rf_predictions = rf_model.predict(X_test)\n",
    "\n",
    "accuracy = rf_model.score(X_test, y_test)\n",
    "print(f\"Random Forest Model Accuracy: {accuracy:.2f}\")"
   ]
  },
  {
   "cell_type": "code",
   "execution_count": null,
   "id": "156c7f93-6503-49d2-ba32-b2fc74580114",
   "metadata": {},
   "outputs": [],
   "source": []
  },
  {
   "cell_type": "markdown",
   "id": "13aa4bb7-f2db-46f3-904d-07a15d6b7cf6",
   "metadata": {
    "tags": []
   },
   "source": [
    "## Option Pricing Model Validation"
   ]
  },
  {
   "cell_type": "markdown",
   "id": "4292e41a-e186-402a-bca9-6d7bd9aa02f0",
   "metadata": {},
   "source": [
    "#### Calibration of a Black-Scholes Model"
   ]
  },
  {
   "cell_type": "code",
   "execution_count": 12,
   "id": "41012fa2-3122-43c4-9b19-ba46e40c8b4c",
   "metadata": {},
   "outputs": [
    {
     "name": "stdout",
     "output_type": "stream",
     "text": [
      "Calibrated Volatility: 0.1257\n",
      "Model Prices: [14.99475112 11.05385999  7.7097394   5.06999405  3.13988127]\n"
     ]
    }
   ],
   "source": [
    "# Black-Scholes formula for European Call Option\n",
    "def mb_black_scholes_call(S, K, T, r, sigma):\n",
    "    d1 = (np.log(S / K) + (r + 0.5 * sigma**2) * T) / (sigma * np.sqrt(T))\n",
    "    d2 = d1 - sigma * np.sqrt(T)\n",
    "    call_price = S * norm.cdf(d1) - K * np.exp(-r * T) * norm.cdf(d2)\n",
    "    return call_price\n",
    "\n",
    "# Calibration function\n",
    "def mb_calibration_function(params, S, K, T, r, market_prices):\n",
    "    sigma = params[0]\n",
    "    model_prices = mb_black_scholes_call(S, K, T, r, sigma)\n",
    "    error = np.sum((market_prices - model_prices)**2)\n",
    "    return error\n",
    "\n",
    "# Market data\n",
    "S = 100  # Current stock price\n",
    "K = np.array([90, 95, 100, 105, 110])  # Strike prices\n",
    "T = 1  # Time to maturity\n",
    "r = 0.05  # Risk-free rate\n",
    "market_prices = np.array([12, 10, 8, 6, 4])  # Market prices of the call options\n",
    "\n",
    "# Initial guess for volatility\n",
    "initial_guess = [0.2]\n",
    "\n",
    "# Calibrate the model\n",
    "result = opt.minimize(mb_calibration_function, initial_guess, args=(S, K, T, r, market_prices))\n",
    "calibrated_sigma = result.x[0]\n",
    "print(f\"Calibrated Volatility: {calibrated_sigma:.4f}\")\n",
    "\n",
    "# Validate the model\n",
    "model_prices = mb_black_scholes_call(S, K, T, r, calibrated_sigma)\n",
    "print(f\"Model Prices: {model_prices}\")\n"
   ]
  },
  {
   "cell_type": "markdown",
   "id": "2690cf37-f457-49c6-91e5-304e7d1b421f",
   "metadata": {},
   "source": [
    "#### Out-of-Sample Testing"
   ]
  },
  {
   "cell_type": "code",
   "execution_count": 13,
   "id": "ca1c82d6-747b-40d1-a0d2-6ebea08e7b27",
   "metadata": {},
   "outputs": [
    {
     "name": "stdout",
     "output_type": "stream",
     "text": [
      "New Model Prices: [19.35683001 14.99475112 11.05385999  7.7097394   5.06999405]\n",
      "Out-of-Sample Mean Absolute Error: 2.6370\n",
      "Out-of-Sample Root Mean Squared Error: 3.4955\n"
     ]
    }
   ],
   "source": [
    "# New market data for out-of-sample testing\n",
    "new_market_prices = np.array([13, 11, 9, 7, 5])\n",
    "new_strike_prices = np.array([85, 90, 95, 100, 105])\n",
    "\n",
    "# Using the calibrated model to predict new prices\n",
    "new_model_prices = mb_black_scholes_call(S, new_strike_prices, T, r, calibrated_sigma)\n",
    "print(f\"New Model Prices: {new_model_prices}\")\n",
    "\n",
    "# Performance metrics for out-of-sample data\n",
    "mae_out_sample = np.mean(np.abs(new_market_prices - new_model_prices))\n",
    "rmse_out_sample = np.sqrt(np.mean((new_market_prices - new_model_prices)**2))\n",
    "print(f\"Out-of-Sample Mean Absolute Error: {mae_out_sample:.4f}\")\n",
    "print(f\"Out-of-Sample Root Mean Squared Error: {rmse_out_sample:.4f}\")\n"
   ]
  },
  {
   "cell_type": "markdown",
   "id": "7988e765-0bab-44da-bd56-0ab26e39b2cd",
   "metadata": {},
   "source": [
    "#### Calculating Performance Metrics"
   ]
  },
  {
   "cell_type": "code",
   "execution_count": 14,
   "id": "4ed6902e-367d-4e82-8576-03e42cc1e5be",
   "metadata": {},
   "outputs": [
    {
     "name": "stdout",
     "output_type": "stream",
     "text": [
      "Mean Absolute Error: 1.2258\n",
      "Root Mean Squared Error: 1.5342\n",
      "R-squared: 0.7058\n"
     ]
    }
   ],
   "source": [
    "# Assuming model_prices and market_prices are available\n",
    "mae = mean_absolute_error(market_prices, model_prices)\n",
    "rmse = np.sqrt(mean_squared_error(market_prices, model_prices))\n",
    "r2 = r2_score(market_prices, model_prices)\n",
    "\n",
    "print(f\"Mean Absolute Error: {mae:.4f}\")\n",
    "print(f\"Root Mean Squared Error: {rmse:.4f}\")\n",
    "print(f\"R-squared: {r2:.4f}\")\n"
   ]
  },
  {
   "cell_type": "markdown",
   "id": "5f1b06b5-f06e-41e5-8898-808226d9ec5f",
   "metadata": {},
   "source": [
    "#### Scenario Analysis"
   ]
  },
  {
   "cell_type": "code",
   "execution_count": 15,
   "id": "320ee03d-3547-4806-85a1-1d85dc7c2fb0",
   "metadata": {},
   "outputs": [
    {
     "name": "stdout",
     "output_type": "stream",
     "text": [
      "Scenario 1 - Call Price: 10.45\n",
      "Scenario 2 - Call Price: 22.76\n",
      "Scenario 3 - Call Price: 14.19\n"
     ]
    }
   ],
   "source": [
    "# Different market scenarios\n",
    "scenarios = [\n",
    "    {'S': 100, 'K': 100, 'T': 1, 'r': 0.05, 'sigma': 0.2},\n",
    "    {'S': 120, 'K': 100, 'T': 0.5, 'r': 0.03, 'sigma': 0.25},\n",
    "    {'S': 80, 'K': 90, 'T': 2, 'r': 0.07, 'sigma': 0.3}\n",
    "]\n",
    "\n",
    "for i, scenario in enumerate(scenarios):\n",
    "    price = mb_black_scholes_call(scenario['S'], scenario['K'], scenario['T'], scenario['r'], scenario['sigma'])\n",
    "    print(f\"Scenario {i+1} - Call Price: {price:.2f}\")\n"
   ]
  },
  {
   "cell_type": "markdown",
   "id": "8d73aece-24d1-4462-99a4-769fc1c11413",
   "metadata": {},
   "source": [
    "#### Sensitivity Analysis"
   ]
  },
  {
   "cell_type": "code",
   "execution_count": 16,
   "id": "371a99ea-77c8-45ec-9292-80a7cca3a71d",
   "metadata": {},
   "outputs": [
    {
     "data": {
      "image/png": "[encoded data removed]",
      "text/plain": [
       "<Figure size 640x480 with 1 Axes>"
      ]
     },
     "metadata": {},
     "output_type": "display_data"
    }
   ],
   "source": [
    "# Sensitivity analysis for volatility\n",
    "volatilities = np.linspace(0.1, 0.5, 100)\n",
    "call_prices = [mb_black_scholes_call(S, 100, T, r, vol) for vol in volatilities]\n",
    "\n",
    "plt.plot(volatilities, call_prices, label='Call Prices')\n",
    "plt.xlabel('Volatility')\n",
    "plt.ylabel('Call Option Price')\n",
    "plt.title('Sensitivity of Call Option Price to Volatility')\n",
    "plt.legend()\n",
    "plt.show()\n"
   ]
  },
  {
   "cell_type": "markdown",
   "id": "ab784fe4-9d70-4068-83dc-39451c739713",
   "metadata": {},
   "source": [
    "#### Calculating and Testing the Greeks"
   ]
  },
  {
   "cell_type": "code",
   "execution_count": 17,
   "id": "32eeaf60-79a2-41ad-b92c-ca494dbc2ddc",
   "metadata": {},
   "outputs": [
    {
     "name": "stdout",
     "output_type": "stream",
     "text": [
      "Delta: 0.6368\n",
      "Gamma: 0.0188\n",
      "Theta: -6.4140\n",
      "Vega: 37.5240\n",
      "Rho: 53.2325\n"
     ]
    }
   ],
   "source": [
    "# Delta: Sensitivity to underlying asset price\n",
    "def mb_delta(S, K, T, r, sigma):\n",
    "    d1 = (np.log(S / K) + (r + 0.5 * sigma**2) * T) / (sigma * np.sqrt(T))\n",
    "    return norm.cdf(d1)\n",
    "\n",
    "# Gamma: Sensitivity to Delta\n",
    "def mb_gamma(S, K, T, r, sigma):\n",
    "    d1 = (np.log(S / K) + (r + 0.5 * sigma**2) * T) / (sigma * np.sqrt(T))\n",
    "    return norm.pdf(d1) / (S * sigma * np.sqrt(T))\n",
    "\n",
    "# Theta: Sensitivity to time\n",
    "def mb_theta(S, K, T, r, sigma):\n",
    "    d1 = (np.log(S / K) + (r + 0.5 * sigma**2) * T) / (sigma * np.sqrt(T))\n",
    "    d2 = d1 - sigma * np.sqrt(T)\n",
    "    term1 = -(S * norm.pdf(d1) * sigma) / (2 * np.sqrt(T))\n",
    "    term2 = r * K * np.exp(-r * T) * norm.cdf(d2)\n",
    "    return term1 - term2\n",
    "\n",
    "# Vega: Sensitivity to volatility\n",
    "def mb_vega(S, K, T, r, sigma):\n",
    "    d1 = (np.log(S / K) + (r + 0.5 * sigma**2) * T) / (sigma * np.sqrt(T))\n",
    "    return S * norm.pdf(d1) * np.sqrt(T)\n",
    "\n",
    "# Rho: Sensitivity to interest rate\n",
    "def mb_rho(S, K, T, r, sigma):\n",
    "    d2 = (np.log(S / K) + (r - 0.5 * sigma**2) * T) / (sigma * np.sqrt(T))\n",
    "    return K * T * np.exp(-r * T) * norm.cdf(d2)\n",
    "\n",
    "# Example calculations for a single option\n",
    "S = 100  # Current stock price\n",
    "K = 100  # Strike price\n",
    "T = 1  # Time to maturity\n",
    "r = 0.05  # Risk-free rate\n",
    "sigma = 0.2  # Volatility\n",
    "\n",
    "delta_value = mb_delta(S, K, T, r, sigma)\n",
    "gamma_value = mb_gamma(S, K, T, r, sigma)\n",
    "theta_value = mb_theta(S, K, T, r, sigma)\n",
    "vega_value = mb_vega(S, K, T, r, sigma)\n",
    "rho_value = mb_rho(S, K, T, r, sigma)\n",
    "\n",
    "print(f\"Delta: {delta_value:.4f}\")\n",
    "print(f\"Gamma: {gamma_value:.4f}\")\n",
    "print(f\"Theta: {theta_value:.4f}\")\n",
    "print(f\"Vega: {vega_value:.4f}\")\n",
    "print(f\"Rho: {rho_value:.4f}\")\n"
   ]
  },
  {
   "cell_type": "code",
   "execution_count": null,
   "id": "ed37bd06-213b-4b2c-bc3c-1587ec108d66",
   "metadata": {},
   "outputs": [],
   "source": []
  }
 ],
 "metadata": {
  "kernelspec": {
   "display_name": "Python 3 (ipykernel)",
   "language": "python",
   "name": "python3"
  },
  "language_info": {
   "codemirror_mode": {
    "name": "ipython",
    "version": 3
   },
   "file_extension": ".py",
   "mimetype": "text/x-python",
   "name": "python",
   "nbconvert_exporter": "python",
   "pygments_lexer": "ipython3",
   "version": "3.11.4"
  }
 },
 "nbformat": 4,
 "nbformat_minor": 5
}
