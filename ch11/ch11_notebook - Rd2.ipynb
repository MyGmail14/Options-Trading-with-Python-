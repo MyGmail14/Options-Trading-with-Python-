{
 "cells": [
  {
   "cell_type": "markdown",
   "id": "54b1cd7d-e884-4d74-8a49-0fcdffdd3f30",
   "metadata": {},
   "source": [
    "# Risk-Neutral Valuation and Numerical Methods"
   ]
  },
  {
   "cell_type": "markdown",
   "id": "0bfc0241-b312-45cd-b1b6-cfecab9ad85e",
   "metadata": {},
   "source": [
    "# ~~~~~~~~~~~~~~~~~~~~~~~~~~~~~~~~"
   ]
  },
  {
   "cell_type": "markdown",
   "id": "0d0d0add-ff03-4c37-af3c-3942c8adc582",
   "metadata": {
    "tags": []
   },
   "source": [
    "## Load the Libs we need"
   ]
  },
  {
   "cell_type": "code",
   "execution_count": 1,
   "id": "4b0d19b3-7892-470c-8051-b3460605ed1a",
   "metadata": {},
   "outputs": [],
   "source": [
    "# Importing Libraries\n",
    "import numpy as np\n",
    "\n",
    "# Importing specific modules and functions\n",
    "from scipy.linalg import solve"
   ]
  },
  {
   "cell_type": "markdown",
   "id": "bfa8c225-d9c6-40d3-88f1-590d034052a4",
   "metadata": {},
   "source": [
    "### Risk-Neutral Valuation Principles for Options Pricing"
   ]
  },
  {
   "cell_type": "markdown",
   "id": "586b4a2d-1bcf-4b45-9f25-e86b9e3f1f72",
   "metadata": {},
   "source": [
    "#### Simulating Price Paths"
   ]
  },
  {
   "cell_type": "code",
   "execution_count": 2,
   "id": "ec513084-136f-4afa-ad63-7e04b2a57a9f",
   "metadata": {},
   "outputs": [],
   "source": [
    "def mb_simulate_price_paths(S0, r, sigma, T, N, M, seed=None):\n",
    "    if seed is not None:\n",
    "        np.random.seed(seed)  # Set the seed for reproducibility\n",
    "    dt = T / N\n",
    "    price_paths = np.zeros((N + 1, M))\n",
    "    price_paths[0] = S0\n",
    "    for t in range(1, N + 1):\n",
    "        z = np.random.standard_normal(M)\n",
    "        price_paths[t] = price_paths[t-1] * np.exp((r - 0.5 * sigma ** 2) * dt + sigma * np.sqrt(dt) * z)\n",
    "    return price_paths"
   ]
  },
  {
   "cell_type": "markdown",
   "id": "6814aba1-301a-4d6f-83aa-462f3b151dd2",
   "metadata": {},
   "source": [
    "#### Pricing a Binary Option"
   ]
  },
  {
   "cell_type": "code",
   "execution_count": 3,
   "id": "51d799f0-0bf8-48f8-aaa5-348e36f30773",
   "metadata": {},
   "outputs": [
    {
     "name": "stdout",
     "output_type": "stream",
     "text": [
      "The price of the binary call option is: $0.4371\n",
      "The price of the binary put option is: $0.5141\n"
     ]
    }
   ],
   "source": [
    "def mb_price_binary_option(S0, K, r, sigma, T, N, M, option_type='call', seed=None):\n",
    "    # Simulate price paths with the given seed\n",
    "    price_paths = mb_simulate_price_paths(S0, r, sigma, T, N, M, seed=seed)\n",
    "    \n",
    "    # Determine the payoff based on the option type\n",
    "    if option_type == 'call':\n",
    "        payoff = np.where(price_paths[-1] > K, 1, 0)  # Payoff is 1 if final price > strike for call\n",
    "    elif option_type == 'put':\n",
    "        payoff = np.where(price_paths[-1] < K, 1, 0)  # Payoff is 1 if final price < strike for put\n",
    "    else:\n",
    "        raise ValueError(\"option_type must be 'call' or 'put'\")\n",
    "    \n",
    "    # Calculate the binary option price\n",
    "    binary_price = np.exp(-r * T) * np.mean(payoff)  # Discounted average payoff\n",
    "    return binary_price\n",
    "\n",
    "# Example usage with a fixed seed\n",
    "S0 = 100     # Initial stock price\n",
    "K = 105      # Strike price\n",
    "r = 0.05     # Risk-free rate\n",
    "sigma = 0.2  # Volatility\n",
    "T = 1        # Time to maturity in years\n",
    "N = 252      # Number of time steps\n",
    "M = 10000    # Number of simulation paths\n",
    "seed = 42    # Random seed for reproducibility\n",
    "\n",
    "binary_call_option_price = mb_price_binary_option(S0, K, r, sigma, T, N, M, option_type='call', seed=seed)\n",
    "binary_put_option_price = mb_price_binary_option(S0, K, r, sigma, T, N, M, option_type='put', seed=seed)\n",
    "\n",
    "print(f\"The price of the binary call option is: ${binary_call_option_price:.4f}\")\n",
    "print(f\"The price of the binary put option is: ${binary_put_option_price:.4f}\")\n"
   ]
  },
  {
   "cell_type": "markdown",
   "id": "9796c4c2-19c3-46b6-af37-e8b726f92f3a",
   "metadata": {},
   "source": [
    "#### Pricing a Barrier Option"
   ]
  },
  {
   "cell_type": "code",
   "execution_count": 4,
   "id": "dc6d475b-1364-4291-ba50-003f0027569c",
   "metadata": {},
   "outputs": [
    {
     "name": "stdout",
     "output_type": "stream",
     "text": [
      "The price of the barrier call option is: $0.0253\n",
      "The price of the barrier put option is: $0.0000\n"
     ]
    }
   ],
   "source": [
    "def mb_price_barrier_option(S0, K, B, r, sigma, T, N, M, option_type='call', seed=None):\n",
    "    # Simulate price paths with the given seed\n",
    "    price_paths = mb_simulate_price_paths(S0, r, sigma, T, N, M, seed=seed)\n",
    "    \n",
    "    # Determine the payoff based on the option type and barrier condition\n",
    "    if option_type == 'call':\n",
    "        # Payoff for a call: price is greater than strike and below the barrier\n",
    "        payoff = np.where((price_paths[-1] > K) & (np.all(price_paths <= B, axis=0)), price_paths[-1] - K, 0)\n",
    "    elif option_type == 'put':\n",
    "        # Payoff for a put: price is less than strike and above the barrier\n",
    "        payoff = np.where((price_paths[-1] < K) & (np.all(price_paths >= B, axis=0)), K - price_paths[-1], 0)\n",
    "    else:\n",
    "        raise ValueError(\"option_type must be 'call' or 'put'\")\n",
    "    \n",
    "    # Calculate the barrier option price\n",
    "    barrier_price = np.exp(-r * T) * np.mean(payoff)  # Discounted average payoff\n",
    "    return barrier_price\n",
    "\n",
    "# Example usage with a fixed seed\n",
    "S0 = 100     # Initial stock price\n",
    "K = 105      # Strike price\n",
    "B = 110      # Barrier level\n",
    "r = 0.05     # Risk-free rate\n",
    "sigma = 0.2  # Volatility\n",
    "T = 1        # Time to maturity in years\n",
    "N = 252      # Number of time steps\n",
    "M = 10000    # Number of simulation paths\n",
    "seed = 42    # Random seed for reproducibility\n",
    "\n",
    "barrier_call_option_price = mb_price_barrier_option(S0, K, B, r, sigma, T, N, M, option_type='call', seed=seed)\n",
    "barrier_put_option_price = mb_price_barrier_option(S0, K, B, r, sigma, T, N, M, option_type='put', seed=seed)\n",
    "\n",
    "print(f\"The price of the barrier call option is: ${barrier_call_option_price:.4f}\")\n",
    "print(f\"The price of the barrier put option is: ${barrier_put_option_price:.4f}\")\n"
   ]
  },
  {
   "cell_type": "markdown",
   "id": "5649334c-a1a9-49f1-ab39-dff1bea2b512",
   "metadata": {},
   "source": [
    "## Implementing numerical methods for options pricing in Python"
   ]
  },
  {
   "cell_type": "markdown",
   "id": "b58d17c4-3096-4e08-bd33-3164b782815e",
   "metadata": {},
   "source": [
    "#### Constructing the Crank-Nicolson Scheme"
   ]
  },
  {
   "cell_type": "code",
   "execution_count": 5,
   "id": "bd31b931-5b26-4032-b510-c266f6ae3ca0",
   "metadata": {
    "tags": []
   },
   "outputs": [
    {
     "name": "stdout",
     "output_type": "stream",
     "text": [
      "The European call option price is: $23.24\n",
      "The European put option price is: $8.14\n"
     ]
    }
   ],
   "source": [
    "# Parameters\n",
    "S_max = 300\n",
    "K = 145\n",
    "r = 0.05\n",
    "sigma = 0.2\n",
    "T = 1\n",
    "N_S = 100\n",
    "N_T = 1000\n",
    "dt = T / N_T\n",
    "ds = S_max / N_S\n",
    "\n",
    "# Set up A and B matrices\n",
    "A = np.zeros((N_S - 2, N_S - 2))\n",
    "B = np.zeros((N_S - 2, N_S - 2))\n",
    "\n",
    "for i in range(1, N_S - 1):\n",
    "    j = i - 1\n",
    "    A[j, j] = 1 + dt * (sigma**2 * i**2 + r)\n",
    "    B[j, j] = 1 - dt * (sigma**2 * i**2 + r)\n",
    "    if i > 1:\n",
    "        A[j, j - 1] = -0.5 * dt * (sigma**2 * i**2 - r * i)\n",
    "        B[j, j - 1] = 0.5 * dt * (sigma**2 * i**2 - r * i)\n",
    "    if i < N_S - 2:\n",
    "        A[j, j + 1] = -0.5 * dt * (sigma**2 * i**2 + r * i)\n",
    "        B[j, j + 1] = 0.5 * dt * (sigma**2 * i**2 + r * i)\n",
    "\n",
    "# Initial condition: payoff at maturity for a call option\n",
    "V_call = np.maximum(np.arange(0, S_max, ds) - K, 0)[1:-1]\n",
    "\n",
    "# Initial condition: payoff at maturity for a put option\n",
    "V_put = np.maximum(K - np.arange(0, S_max, ds), 0)[1:-1]\n",
    "\n",
    "# Time-stepping loop for the call option\n",
    "for t in range(N_T):\n",
    "    b_call = B @ V_call\n",
    "    # Adjust for boundary conditions if necessary\n",
    "    V_call = solve(A, b_call)\n",
    "\n",
    "# Time-stepping loop for the put option\n",
    "for t in range(N_T):\n",
    "    b_put = B @ V_put\n",
    "    # Adjust for boundary conditions if necessary\n",
    "    V_put = solve(A, b_put)\n",
    "\n",
    "# Option prices at S = $150\n",
    "call_option_price = V_call[int(150 / ds) - 1]\n",
    "put_option_price = V_put[int(150 / ds) - 1]\n",
    "\n",
    "print(f\"The European call option price is: ${call_option_price:.2f}\")\n",
    "print(f\"The European put option price is: ${put_option_price:.2f}\")"
   ]
  },
  {
   "cell_type": "code",
   "execution_count": null,
   "id": "3096857c-3f3f-472a-9a50-b4f5c726bd88",
   "metadata": {},
   "outputs": [],
   "source": []
  }
 ],
 "metadata": {
  "kernelspec": {
   "display_name": "Python 3 (ipykernel)",
   "language": "python",
   "name": "python3"
  },
  "language_info": {
   "codemirror_mode": {
    "name": "ipython",
    "version": 3
   },
   "file_extension": ".py",
   "mimetype": "text/x-python",
   "name": "python",
   "nbconvert_exporter": "python",
   "pygments_lexer": "ipython3",
   "version": "3.11.4"
  }
 },
 "nbformat": 4,
 "nbformat_minor": 5
}
